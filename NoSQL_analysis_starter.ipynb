{
 "cells": [
  {
   "cell_type": "markdown",
   "id": "7c6801dd",
   "metadata": {},
   "source": [
    "## Notebook Set Up"
   ]
  },
  {
   "cell_type": "code",
   "execution_count": 1,
   "id": "4b146d78",
   "metadata": {},
   "outputs": [],
   "source": [
    "# Import dependencies\n",
    "from pymongo import MongoClient\n",
    "from pprint import pprint"
   ]
  },
  {
   "cell_type": "code",
   "execution_count": 2,
   "id": "0bb09072",
   "metadata": {},
   "outputs": [],
   "source": [
    "# Create an instance of MongoClient\n",
    "mongo = MongoClient(port=27017)"
   ]
  },
  {
   "cell_type": "code",
   "execution_count": 3,
   "id": "93894f04",
   "metadata": {},
   "outputs": [],
   "source": [
    "# assign the uk_food database to a variable name\n",
    "db = mongo['uk_food']"
   ]
  },
  {
   "cell_type": "code",
   "execution_count": null,
   "id": "56bf9a79",
   "metadata": {},
   "outputs": [],
   "source": [
    "# review the collections in our database\n",
    "print(db.list_collection_names())"
   ]
  },
  {
   "cell_type": "code",
   "execution_count": null,
   "id": "b6cbc7de",
   "metadata": {},
   "outputs": [],
   "source": [
    "# assign the collection to a variable\n",
    "establishments = db['establishments']"
   ]
  },
  {
   "cell_type": "markdown",
   "id": "03f0a728",
   "metadata": {},
   "source": [
    "## Part 3: Exploratory Analysis\n",
    "Unless otherwise stated, for each question: \n",
    "* Use `count_documents` to display the number of documents contained in the result.\n",
    "* Display the first document in the results using `pprint`.\n",
    "* Convert the result to a Pandas DataFrame, print the number of rows in the DataFrame, and display the first 10 rows."
   ]
  },
  {
   "cell_type": "markdown",
   "id": "54c7237f",
   "metadata": {},
   "source": [
    "### 1. Which establishments have a hygiene score equal to 20?"
   ]
  },
  {
   "cell_type": "code",
   "execution_count": null,
   "id": "e4d8b54a",
   "metadata": {},
   "outputs": [],
   "source": [
    "# Find the establishments with a hygiene score of 20\n",
    "query = {'scores.Hygiene' : 20}\n",
    "results = list(establishments.find(query))\n",
    "# Use count_documents to display the number of documents in the result\n",
    "print(f'{establishments.count_documents(query)} establishments have a hygiene score of 20.')\n",
    "# Display the first document in the results using pprint\n",
    "pprint(results[0])\n"
   ]
  },
  {
   "cell_type": "code",
   "execution_count": null,
   "id": "5013e40e",
   "metadata": {},
   "outputs": [],
   "source": [
    "# Convert the result to a Pandas DataFrame\n",
    "import pandas as pd\n",
    "hygieneDf = pd.DataFrame(results)\n",
    "# Display the number of rows in the DataFrame\n",
    "len(hygieneDf)\n",
    "# Display the first 10 rows of the DataFrame\n",
    "hygieneDf.head(10)\n"
   ]
  },
  {
   "cell_type": "markdown",
   "id": "e7f349d8",
   "metadata": {},
   "source": [
    "### 2. Which establishments in London have a `RatingValue` greater than or equal to 4?"
   ]
  },
  {
   "cell_type": "code",
   "execution_count": null,
   "id": "5508ee05",
   "metadata": {},
   "outputs": [],
   "source": [
    "# Find the establishments with London as the Local Authority and has a RatingValue greater than or equal to 4.\n",
    "query = {'LocalAuthorityName' : {'$regex' : 'London'}, {'RatingValue' : {'$gte' : 4}}}\n",
    "results = list(establishments.find(query))\n",
    "# Use count_documents to display the number of documents in the result\n",
    "print(f'{establishments.count_documents(query)} establishments with London as the Local Authority have a rating value greater than or equal to 4')\n",
    "# Display the first document in the results using pprint\n",
    "pprint(results[0])\n"
   ]
  },
  {
   "cell_type": "code",
   "execution_count": null,
   "id": "95d3ea6a",
   "metadata": {},
   "outputs": [],
   "source": [
    "# Convert the result to a Pandas DataFrame\n",
    "ratingDf = pd.DataFrame(results)\n",
    "# Display the number of rows in the DataFrame\n",
    "len(ratingDf)\n",
    "# Display the first 10 rows of the DataFrame\n",
    "ratingDf.head(10)\n"
   ]
  },
  {
   "cell_type": "markdown",
   "id": "7c0f2dec",
   "metadata": {},
   "source": [
    "### 3. What are the top 5 establishments with a `RatingValue` rating value of 5, sorted by lowest hygiene score, nearest to the new restaurant added, \"Penang Flavours\"?"
   ]
  },
  {
   "cell_type": "code",
   "execution_count": null,
   "id": "d19687cc",
   "metadata": {},
   "outputs": [],
   "source": [
    "# to get lat and lon\n",
    "establishments.find_one({'BusinessName' : 'Penang Flavours'})"
   ]
  },
  {
   "cell_type": "code",
   "execution_count": null,
   "id": "da5b195b",
   "metadata": {},
   "outputs": [],
   "source": [
    "# Search within 0.01 degree on either side of the latitude and longitude.\n",
    "# Rating value must equal 5\n",
    "# Sort by hygiene score\n",
    "\n",
    "\n",
    "degree_search = 0.01\n",
    "latitude = 51.49014200\n",
    "longitude = 0.08384000\n",
    "\n",
    "query = {'geocode.latitude' : {'$lt' : longitude+degree_search,'$gt' : longitude-degree_search},\n",
    "        'geocode.longitude' : {'$lt' : latitude+degree_search,'$gt' : latitude-degree_search}, 'RatingValue' : 5}\n",
    "sort = [('scores.Hygiene',-1)]\n",
    "\n",
    "results = list(establishments.find(query).sort(sort).limit(5))\n",
    "\n",
    "# Print the results\n",
    "pprint(results)\n"
   ]
  },
  {
   "cell_type": "code",
   "execution_count": null,
   "id": "fd40ee60",
   "metadata": {},
   "outputs": [],
   "source": [
    "# Convert result to Pandas DataFrame\n",
    "nearestDf = pd.DataFrame(results)\n",
    "results.head()"
   ]
  },
  {
   "cell_type": "markdown",
   "id": "d7380cc2",
   "metadata": {},
   "source": [
    "### 4. How many establishments in each Local Authority area have a hygiene score of 0?"
   ]
  },
  {
   "cell_type": "code",
   "execution_count": null,
   "id": "9b699be7",
   "metadata": {},
   "outputs": [],
   "source": [
    "# Create a pipeline that: \n",
    "# 1. Matches establishments with a hygiene score of 0\n",
    "# 2. Groups the matches by Local Authority\n",
    "# 3. Sorts the matches from highest to lowest\n",
    "\n",
    "query1 = {'$match' : {'scores.Hygiene' : 0}}\n",
    "query2 = {'$group' : {'_id' : '$LocalAuthorityName','count' : {'$sum' : 1}}}\n",
    "query3 = {'$sort' : {'count' : -1}}\n",
    "pipeline = [query1, query2, query3]\n",
    "results = list(establishments.aggregate(pipeline))\n",
    "# Print the number of documents in the result\n",
    "\n",
    "print(f'There are {len(results)} documents in the result')\n",
    "# Print the first 10 results\n",
    "pprint(results[0:10])\n"
   ]
  },
  {
   "cell_type": "code",
   "execution_count": null,
   "id": "648c9ac2",
   "metadata": {},
   "outputs": [],
   "source": [
    "# Convert the result to a Pandas DataFrame\n",
    "inAreaDf = pd.DataFrame(results)\n",
    "# Display the number of rows in the DataFrame\n",
    "len(inAreaDf)\n",
    "# Display the first 10 rows of the DataFrame\n",
    "inAreaDf.head(10)"
   ]
  }
 ],
 "metadata": {
  "kernelspec": {
   "display_name": "Python 3 (ipykernel)",
   "language": "python",
   "name": "python3"
  },
  "language_info": {
   "codemirror_mode": {
    "name": "ipython",
    "version": 3
   },
   "file_extension": ".py",
   "mimetype": "text/x-python",
   "name": "python",
   "nbconvert_exporter": "python",
   "pygments_lexer": "ipython3",
   "version": "3.9.7"
  }
 },
 "nbformat": 4,
 "nbformat_minor": 5
}
